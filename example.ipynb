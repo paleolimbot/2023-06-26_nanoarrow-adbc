{
 "cells": [
  {
   "cell_type": "code",
   "execution_count": 1,
   "metadata": {},
   "outputs": [],
   "source": [
    "import adbc_driver_manager\n",
    "import pyarrow as pa\n",
    "\n",
    "db = adbc_driver_manager.AdbcDatabase(\n",
    "    driver=\"build/libadbc_simple_csv_driver.dylib\",\n",
    "    entrypoint=\"SimpleCsvDriverInit\",\n",
    "    uri=\"test.csv\"\n",
    ")\n",
    "\n",
    "conn = adbc_driver_manager.AdbcConnection(db)\n",
    "stmt = adbc_driver_manager.AdbcStatement(conn)\n",
    "array_stream, rows_affected = stmt.execute_query()\n",
    "reader = pa.RecordBatchReader._import_from_c(array_stream.address)\n",
    "reader.read_all()"
   ]
  }
 ],
 "metadata": {
  "kernelspec": {
   "display_name": ".venv",
   "language": "python",
   "name": "python3"
  },
  "language_info": {
   "codemirror_mode": {
    "name": "ipython",
    "version": 3
   },
   "file_extension": ".py",
   "mimetype": "text/x-python",
   "name": "python",
   "nbconvert_exporter": "python",
   "pygments_lexer": "ipython3",
   "version": "3.9.6"
  },
  "orig_nbformat": 4
 },
 "nbformat": 4,
 "nbformat_minor": 2
}
